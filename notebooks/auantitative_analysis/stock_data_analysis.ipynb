{
 "cells": [
  {
   "cell_type": "code",
   "execution_count": null,
   "metadata": {},
   "outputs": [],
   "source": [
    "import pandas as pd\n",
    "\n",
    "# Load the stock price data\n",
    "file_path = '../../Data/yfinance_data/yfinance_data/AAPL_historical_data.csv'\n",
    "df = pd.read_csv(file_path)\n",
    "\n",
    "# Display basic information about the dataset\n",
    "print(df.info())\n",
    "print(df.head())\n",
    "\n",
    "# Ensure the data includes required columns\n",
    "required_columns = ['Open', 'High', 'Low', 'Close', 'Volume']\n",
    "if not all(col in df.columns for col in required_columns):\n",
    "    raise ValueError(f\"Dataset must include the following columns: {required_columns}\")\n"
   ]
  },
  {
   "cell_type": "code",
   "execution_count": null,
   "metadata": {},
   "outputs": [],
   "source": [
    "import pandas as pd\n",
    "\n",
    "# Load the stock price data\n",
    "file_path = '../../Data/yfinance_data/yfinance_data/AMZN_historical_data.csv'\n",
    "df = pd.read_csv(file_path)\n",
    "\n",
    "# Display basic information about the dataset\n",
    "print(df.info())\n",
    "print(df.head())\n",
    "\n",
    "# Ensure the data includes required columns\n",
    "required_columns = ['Open', 'High', 'Low', 'Close', 'Volume']\n",
    "if not all(col in df.columns for col in required_columns):\n",
    "    raise ValueError(f\"Dataset must include the following columns: {required_columns}\")\n"
   ]
  },
  {
   "cell_type": "code",
   "execution_count": null,
   "metadata": {},
   "outputs": [],
   "source": [
    "import pandas as pd\n",
    "\n",
    "# Load the stock price data\n",
    "file_path = '../../Data/yfinance_data/yfinance_data/GOOG_historical_data.csv'\n",
    "df = pd.read_csv(file_path)\n",
    "\n",
    "# Display basic information about the dataset\n",
    "print(df.info())\n",
    "print(df.head())\n",
    "\n",
    "# Ensure the data includes required columns\n",
    "required_columns = ['Open', 'High', 'Low', 'Close', 'Volume']\n",
    "if not all(col in df.columns for col in required_columns):\n",
    "    raise ValueError(f\"Dataset must include the following columns: {required_columns}\")\n"
   ]
  },
  {
   "cell_type": "code",
   "execution_count": null,
   "metadata": {},
   "outputs": [],
   "source": [
    "import pandas as pd\n",
    "\n",
    "# Load the stock price data\n",
    "file_path = '../../data/yfinance_data/yfinance_data/META_historical_data.csv'\n",
    "df = pd.read_csv(file_path)\n",
    "\n",
    "# Display basic information about the dataset\n",
    "print(df.info())\n",
    "print(df.head())\n",
    "\n",
    "# Ensure the data includes required columns\n",
    "required_columns = ['Open', 'High', 'Low', 'Close', 'Volume']\n",
    "if not all(col in df.columns for col in required_columns):\n",
    "    raise ValueError(f\"Dataset must include the following columns: {required_columns}\")\n"
   ]
  },
  {
   "cell_type": "code",
   "execution_count": null,
   "metadata": {},
   "outputs": [],
   "source": [
    "import pandas as pd\n",
    "\n",
    "# Load the stock price data\n",
    "file_path = '../../Data/yfinance_data/yfinance_data/MSFT_historical_data.csv'\n",
    "df = pd.read_csv(file_path)\n",
    "\n",
    "# Display basic information about the dataset\n",
    "print(df.info())\n",
    "print(df.head())\n",
    "\n",
    "# Ensure the data includes required columns\n",
    "required_columns = ['Open', 'High', 'Low', 'Close', 'Volume']\n",
    "if not all(col in df.columns for col in required_columns):\n",
    "    raise ValueError(f\"Dataset must include the following columns: {required_columns}\")\n"
   ]
  },
  {
   "cell_type": "code",
   "execution_count": null,
   "metadata": {},
   "outputs": [],
   "source": [
    "import pandas as pd\n",
    "\n",
    "# Load the stock price data\n",
    "file_path = '../../data/yfinance_data/yfinance_data/NVDA_historical_data.csv'\n",
    "df = pd.read_csv(file_path)\n",
    "\n",
    "# Display basic information about the dataset\n",
    "print(df.info())\n",
    "print(df.head())\n",
    "\n",
    "# Ensure the data includes required columns\n",
    "required_columns = ['Open', 'High', 'Low', 'Close', 'Volume']\n",
    "if not all(col in df.columns for col in required_columns):\n",
    "    raise ValueError(f\"Dataset must include the following columns: {required_columns}\")\n"
   ]
  },
  {
   "cell_type": "code",
   "execution_count": null,
   "metadata": {},
   "outputs": [],
   "source": [
    "import pandas as pd\n",
    "\n",
    "# Load the stock price data\n",
    "file_path = '../../data/yfinance_data/yfinance_data/TSLA_historical_data.csv'\n",
    "df = pd.read_csv(file_path)\n",
    "\n",
    "# Display basic information about the dataset\n",
    "print(df.info())\n",
    "print(df.head())\n",
    "\n",
    "# Ensure the data includes required columns\n",
    "required_columns = ['Open', 'High', 'Low', 'Close', 'Volume']\n",
    "if not all(col in df.columns for col in required_columns):\n",
    "    raise ValueError(f\"Dataset must include the following columns: {required_columns}\")\n"
   ]
  }
 ],
 "metadata": {
  "kernelspec": {
   "display_name": "venv",
   "language": "python",
   "name": "python3"
  },
  "language_info": {
   "codemirror_mode": {
    "name": "ipython",
    "version": 3
   },
   "file_extension": ".py",
   "mimetype": "text/x-python",
   "name": "python",
   "nbconvert_exporter": "python",
   "pygments_lexer": "ipython3",
   "version": "3.11.0"
  }
 },
 "nbformat": 4,
 "nbformat_minor": 2
}
